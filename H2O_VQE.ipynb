{
 "cells": [
  {
   "cell_type": "code",
   "execution_count": 1,
   "metadata": {},
   "outputs": [],
   "source": [
    "from qiskit import BasicAer\n",
    "\n",
    "from qiskit.aqua import QuantumInstance\n",
    "from qiskit.aqua.algorithms.adaptive import VQE\n",
    "from qiskit.aqua.algorithms.classical import ExactEigensolver\n",
    "from qiskit.aqua.components.optimizers import SLSQP\n",
    "\n",
    "from qiskit.chemistry.drivers import PySCFDriver, UnitsType\n",
    "from qiskit.chemistry.core import Hamiltonian, TransformationType, QubitMappingType \n",
    "from qiskit.chemistry.components.variational_forms import UCCSD\n",
    "from qiskit.chemistry.components.initial_states import HartreeFock"
   ]
  },
  {
   "cell_type": "code",
   "execution_count": 5,
   "metadata": {},
   "outputs": [
    {
     "name": "stdout",
     "output_type": "stream",
     "text": [
      "0\n",
      "1\n",
      "2\n",
      "3\n",
      "4\n",
      "5\n",
      "6\n",
      "7\n",
      "8\n",
      "9\n",
      "10\n",
      "11\n",
      "12\n",
      "13\n",
      "14\n",
      "15\n",
      "16\n"
     ]
    }
   ],
   "source": [
    "import numpy as np\n",
    "import pylab\n",
    "\n",
    "h2o = 'H; O 1 1.08; H 2 {} 1 104.5'\n",
    "\n",
    "distances = [x * 0.01 + 1.00 for x in range(17)]\n",
    "energies = np.empty(len(distances))\n",
    "\n",
    "for i, distance in enumerate(distances):\n",
    "    print(i)\n",
    "    driver = PySCFDriver(h2o.format(distance), basis='sto3g')\n",
    "    qmolecule = driver.run()\n",
    "    core = Hamiltonian(transformation=TransformationType.FULL, qubit_mapping=QubitMappingType.PARITY, \n",
    "                           two_qubit_reduction=True, freeze_core=True)\n",
    "    qubit_op, aux_ops = core.run(qmolecule)\n",
    "    #optimizer = SLSQP(maxiter=2500)\n",
    "    \n",
    "    init_state = HartreeFock(num_qubits=qubit_op.num_qubits, \n",
    "                         num_orbitals=core._molecule_info['num_orbitals'],\n",
    "                         num_particles=core._molecule_info['num_particles'],\n",
    "                         qubit_mapping=core._qubit_mapping,\n",
    "                         two_qubit_reduction=core._two_qubit_reduction)\n",
    "\n",
    "    var_form = UCCSD(num_qubits=qubit_op.num_qubits,\n",
    "                 depth=1,\n",
    "                 num_orbitals=core._molecule_info['num_orbitals'], \n",
    "                 num_particles=core._molecule_info['num_particles'],\n",
    "                 qubit_mapping=core._qubit_mapping,\n",
    "                 two_qubit_reduction=core._two_qubit_reduction, \n",
    "                 initial_state=init_state)\n",
    "    optimizer = SLSQP(maxiter=2500)\n",
    "    \n",
    "    backend = BasicAer.get_backend('statevector_simulator')\n",
    "    quantum_instance = QuantumInstance(backend=backend)\n",
    "    vqe = VQE(qubit_op, var_form, optimizer)\n",
    "    algo_result = vqe.run(quantum_instance)\n",
    "    lines, result = core.process_algorithm_result(algo_result)\n",
    "    \n",
    "    energies[i] = result['energy']"
   ]
  },
  {
   "cell_type": "code",
   "execution_count": 6,
   "metadata": {},
   "outputs": [
    {
     "data": {
      "image/png": "[encoded data removed]",
      "text/plain": [
       "<Figure size 432x288 with 1 Axes>"
      ]
     },
     "metadata": {
      "needs_background": "light"
     },
     "output_type": "display_data"
    }
   ],
   "source": [
    "pylab.plot(distances, energies)\n",
    "pylab.xlabel('Distance of Hydrogen atom')\n",
    "pylab.ylabel('Energy')\n",
    "pylab.title('H2O molecule, one H atom distance varied');"
   ]
  },
  {
   "cell_type": "code",
   "execution_count": null,
   "metadata": {},
   "outputs": [],
   "source": []
  }
 ],
 "metadata": {
  "kernelspec": {
   "display_name": "Python 3",
   "language": "python",
   "name": "python3"
  },
  "language_info": {
   "codemirror_mode": {
    "name": "ipython",
    "version": 3
   },
   "file_extension": ".py",
   "mimetype": "text/x-python",
   "name": "python",
   "nbconvert_exporter": "python",
   "pygments_lexer": "ipython3",
   "version": "3.7.4"
  }
 },
 "nbformat": 4,
 "nbformat_minor": 2
}
