{
 "cells": [
  {
   "cell_type": "code",
   "execution_count": 2,
   "metadata": {},
   "outputs": [],
   "source": [
    "# useful additional packages \n",
    "import matplotlib.pyplot as plt\n",
    "import copy\n",
    "%matplotlib inline\n",
    "import numpy as np\n",
    "from qiskit import Aer\n",
    "from qiskit.aqua import QuantumInstance\n",
    "from qiskit.aqua.algorithms import ExactEigensolver, VQE\n",
    "from qiskit.aqua.components.variational_forms import RYRZ\n",
    "from qiskit.aqua.components.optimizers import SPSA\n",
    "from qiskit.chemistry.core import Hamiltonian, TransformationType, QubitMappingType\n",
    "from qiskit.chemistry.drivers import HDF5Driver\n",
    "import warnings\n",
    "warnings.filterwarnings('ignore')\n",
    "\n",
    "# setup qiskit.chemistry logging\n",
    "import logging\n",
    "from qiskit.chemistry import set_qiskit_chemistry_logging\n",
    "set_qiskit_chemistry_logging(logging.ERROR) # choose among DEBUG, INFO, WARNING, ERROR, CRITICAL and NOTSET"
   ]
  },
  {
   "cell_type": "code",
   "execution_count": 3,
   "metadata": {},
   "outputs": [
    {
     "name": "stdout",
     "output_type": "stream",
     "text": [
      "Number of orbitals: 2\n",
      "Number of alpha electrons: 2\n",
      "Number of beta electrons: 2\n"
     ]
    }
   ],
   "source": [
    "from qiskit.chemistry.drivers import PySCFDriver, UnitsType\n",
    "\n",
    "\n",
    "\n",
    "driver = PySCFDriver(atom='H .0 .0 .0; H .0 .0 0.2', unit=UnitsType.ANGSTROM,\n",
    "                     charge=0, spin=0, basis='sto3g')\n",
    "molecule = driver.run()\n",
    "\n",
    "print('Number of orbitals: {}'.format(molecule.num_orbitals))\n",
    "print('Number of alpha electrons: {}'.format(molecule.num_orbitals))\n",
    "print('Number of beta electrons: {}'.format(molecule.num_orbitals))"
   ]
  },
  {
   "cell_type": "code",
   "execution_count": 4,
   "metadata": {},
   "outputs": [
    {
     "name": "stdout",
     "output_type": "stream",
     "text": [
      "Ground state energy (classical): -1.857275027032\n",
      "Ground state energy (quantum)  : -1.137252855666\n",
      "====================================================\n",
      "=== GROUND STATE ENERGY ===\n",
      " \n",
      "* Electronic ground state energy (Hartree): -1.857221846945\n",
      "  - computed part:      -1.857221846945\n",
      "  - frozen energy part: 0.0\n",
      "  - particle hole part: 0.0\n",
      "~ Nuclear repulsion energy (Hartree): 0.719968991279\n",
      "> Total ground state energy (Hartree): -1.137252855666\n"
     ]
    }
   ],
   "source": [
    "# First, we use classical eigendecomposition to get ground state energy (including nuclear repulsion energy) as reference.\n",
    "\n",
    "driver = HDF5Driver('/Users/logantillman/Desktop/qproj/h2_0.735_sto-3g.hdf5')\n",
    "molecule = driver.run()\n",
    "operator =  Hamiltonian(transformation=TransformationType.FULL,\n",
    "                 qubit_mapping=QubitMappingType.PARITY,\n",
    "                 two_qubit_reduction=True,\n",
    "                 freeze_core=False,\n",
    "                 orbital_reduction=None)\n",
    "qubit_op, aux_ops = operator.run(molecule)\n",
    "result = ExactEigensolver(qubit_op).run()\n",
    "print('Ground state energy (classical): {:.12f}'.format(result['energy']))\n",
    "\n",
    "# Second, we use variational quantum eigensolver (VQE)\n",
    "\n",
    "var_form = RYRZ(qubit_op.num_qubits, depth=3, entanglement='full')\n",
    "optimizer = SPSA(max_trials=350)\n",
    "algo = VQE(qubit_op, var_form, optimizer, max_evals_grouped=1)\n",
    "result = algo.run(QuantumInstance(Aer.get_backend('statevector_simulator')))\n",
    "lines, result = operator.process_algorithm_result(result)\n",
    "result['printable'] = lines\n",
    "        \n",
    "print('Ground state energy (quantum)  : {:.12f}'.format(result['energy']))\n",
    "print(\"====================================================\")\n",
    "# You can also print out other info in the field 'printable'\n",
    "for line in result['printable']:\n",
    "    print(line)"
   ]
  },
  {
   "cell_type": "code",
   "execution_count": 5,
   "metadata": {},
   "outputs": [],
   "source": [
    "import os, tempfile\n",
    "from qiskit.chemistry.drivers import PySCFDriver, UnitsType"
   ]
  },
  {
   "cell_type": "code",
   "execution_count": 6,
   "metadata": {
    "scrolled": false
   },
   "outputs": [
    {
     "name": "stdout",
     "output_type": "stream",
     "text": [
      "Using ExactEigensolver\n",
      "Processing atomic distance: 4.0 Angstrom\n",
      "\n",
      "Using VQE\n",
      "Processing atomic distance: 4.0 Angstrom\n",
      "\n"
     ]
    }
   ],
   "source": [
    "# select H2 or LiH to experiment with\n",
    "molecule='H2'\n",
    "\n",
    "if molecule == 'LiH':\n",
    "    mol_distances = np.arange(2.0, 5.0, 0.1)\n",
    "    #mol_distances = np.arange(0.6, 5.1, 0.1)\n",
    "else:\n",
    "    mol_distances = np.arange(0.2, 4.1, 0.1)\n",
    "\n",
    "algos = ['ExactEigensolver', 'VQE']\n",
    "energy = np.zeros((len(algos), len(mol_distances)))\n",
    "for j, algo_name in enumerate(algos):\n",
    "    print(\"Using {}\".format(algo_name))\n",
    "    for i, dis in enumerate(mol_distances):\n",
    "        print(\"Processing atomic distance: {:1.1f} Angstrom\".format(dis), end='\\r') \n",
    "        if molecule == 'LiH':\n",
    "            operator =  Hamiltonian(transformation=TransformationType.FULL,\n",
    "                             qubit_mapping=QubitMappingType.PARITY,\n",
    "                             two_qubit_reduction=True,\n",
    "                             freeze_core=True,\n",
    "                             orbital_reduction=[-3, -2])\n",
    "        else:\n",
    "            operator =  Hamiltonian(transformation=TransformationType.FULL,\n",
    "                             qubit_mapping=QubitMappingType.PARITY,\n",
    "                             two_qubit_reduction=True,\n",
    "                             freeze_core=False,\n",
    "                             orbital_reduction=None)\n",
    "        \n",
    "        # -- This is where you set the molecule for the driver -- #\n",
    "        driver = PySCFDriver(atom='H .0 .0 .0; H .0 .0 {}'.format(dis), unit=UnitsType.ANGSTROM,\n",
    "                     charge=0, spin=0, basis='sto3g')\n",
    "        molecule = driver.run()\n",
    "        \n",
    "        # -- Creating the temporary file for each interatomic distance -- #\n",
    "        fd, hdf5_file = tempfile.mkstemp(suffix='.hdf5', dir='/Users/logantillman/Desktop/qproj/H2')\n",
    "        os.close(fd)\n",
    "\n",
    "        molecule.save(hdf5_file)\n",
    "        \n",
    "        # -- Running the file with the HDF5Driver -- #\n",
    "        driver = HDF5Driver(hdf5_file)\n",
    "        qubit_op, aux_ops = operator.run(driver.run())\n",
    "        if algo_name == 'VQE':\n",
    "            if molecule == 'LiH':\n",
    "                var_form = RYRZ(qubit_op.num_qubits, depth=5, entanglement='full')\n",
    "                optimizer = SPSA(max_trials=2500)\n",
    "            else:\n",
    "                var_form = RYRZ(qubit_op.num_qubits, depth=3, entanglement='full')\n",
    "                optimizer = SPSA(max_trials=350)\n",
    "            \n",
    "            algo = VQE(qubit_op, var_form, optimizer, max_evals_grouped=1)\n",
    "            result = algo.run(QuantumInstance(Aer.get_backend('qasm_simulator'), shots=1024))\n",
    "        else:\n",
    "            result = ExactEigensolver(qubit_op).run()\n",
    "        \n",
    "        lines, result = operator.process_algorithm_result(result)\n",
    "        result['printable'] = lines\n",
    "        energy[j][i] = result['energy']\n",
    "        os.remove(hdf5_file)\n",
    "    print(\"\\n\")"
   ]
  },
  {
   "cell_type": "code",
   "execution_count": 7,
   "metadata": {},
   "outputs": [
    {
     "data": {
      "image/png": "[encoded data removed]",
      "text/plain": [
       "<Figure size 432x288 with 1 Axes>"
      ]
     },
     "metadata": {
      "needs_background": "light"
     },
     "output_type": "display_data"
    }
   ],
   "source": [
    "for i, algo in enumerate(algos):\n",
    "    plt.plot(mol_distances, energy[i], label=algo)\n",
    "plt.xlabel('Atomic distance (Angstrom)')\n",
    "plt.ylabel('Energy')\n",
    "plt.legend()\n",
    "plt.show()"
   ]
  },
  {
   "cell_type": "code",
   "execution_count": null,
   "metadata": {},
   "outputs": [],
   "source": [
    "# -- TEST CODE BELOW -- #"
   ]
  },
  {
   "cell_type": "code",
   "execution_count": 8,
   "metadata": {},
   "outputs": [
    {
     "name": "stdout",
     "output_type": "stream",
     "text": [
      "H .0 .0 .0; H .0 .0 0.8\n",
      "Number of orbitals: 2\n",
      "Number of alpha electrons: 2\n",
      "Number of beta electrons: 2\n"
     ]
    }
   ],
   "source": [
    "from qiskit.chemistry.drivers import PySCFDriver, UnitsType\n",
    "\n",
    "distance = '0.8'\n",
    "\n",
    "driver = PySCFDriver(atom='H .0 .0 .0; H .0 .0 {}'.format(distance), unit=UnitsType.ANGSTROM,\n",
    "                     charge=0, spin=0, basis='sto3g')\n",
    "molecule = driver.run()\n",
    "\n",
    "print('H .0 .0 .0; H .0 .0 {}'.format(distance))\n",
    "\n",
    "print('Number of orbitals: {}'.format(molecule.num_orbitals))\n",
    "print('Number of alpha electrons: {}'.format(molecule.num_orbitals))\n",
    "print('Number of beta electrons: {}'.format(molecule.num_orbitals))"
   ]
  },
  {
   "cell_type": "code",
   "execution_count": 9,
   "metadata": {},
   "outputs": [
    {
     "name": "stdout",
     "output_type": "stream",
     "text": [
      "/Users/logantillman/Desktop/qproj/H2/tmpi_rbovtw.hdf5 : 21768 bytes\n"
     ]
    }
   ],
   "source": [
    "import os, tempfile\n",
    "\n",
    "fd, hdf5_file = tempfile.mkstemp(suffix='.hdf5', dir='/Users/logantillman/Desktop/qproj/H2')\n",
    "\n",
    "os.close(fd)\n",
    "\n",
    "molecule.save(hdf5_file)\n",
    "print('{} : {} bytes'.format(hdf5_file, os.path.getsize(hdf5_file)))"
   ]
  },
  {
   "cell_type": "code",
   "execution_count": 10,
   "metadata": {},
   "outputs": [
    {
     "name": "stdout",
     "output_type": "stream",
     "text": [
      "Number of orbitals: 2\n",
      "Number of alpha electrons: 2\n",
      "Number of beta electrons: 2\n"
     ]
    }
   ],
   "source": [
    "driver = HDF5Driver(hdf5_file)\n",
    "molecule1 = driver.run()\n",
    "\n",
    "print('Number of orbitals: {}'.format(molecule1.num_orbitals))\n",
    "print('Number of alpha electrons: {}'.format(molecule1.num_orbitals))\n",
    "print('Number of beta electrons: {}'.format(molecule1.num_orbitals))"
   ]
  },
  {
   "cell_type": "code",
   "execution_count": null,
   "metadata": {},
   "outputs": [],
   "source": [
    "os.remove(hdf5_file)"
   ]
  },
  {
   "cell_type": "code",
   "execution_count": null,
   "metadata": {},
   "outputs": [],
   "source": []
  },
  {
   "cell_type": "code",
   "execution_count": null,
   "metadata": {},
   "outputs": [],
   "source": []
  }
 ],
 "metadata": {
  "kernelspec": {
   "display_name": "Python 3",
   "language": "python",
   "name": "python3"
  },
  "language_info": {
   "codemirror_mode": {
    "name": "ipython",
    "version": 3
   },
   "file_extension": ".py",
   "mimetype": "text/x-python",
   "name": "python",
   "nbconvert_exporter": "python",
   "pygments_lexer": "ipython3",
   "version": "3.7.1"
  }
 },
 "nbformat": 4,
 "nbformat_minor": 2
}
