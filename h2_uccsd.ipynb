{
 "cells": [
  {
   "cell_type": "code",
   "execution_count": 6,
   "metadata": {},
   "outputs": [],
   "source": [
    "import numpy as np\n",
    "import pylab\n",
    "import copy\n",
    "from qiskit import BasicAer\n",
    "from qiskit.aqua import QuantumInstance\n",
    "from qiskit.aqua.algorithms import ExactEigensolver, VQE\n",
    "from qiskit.aqua.components.optimizers import COBYLA\n",
    "from qiskit.chemistry.components.initial_states import HartreeFock\n",
    "from qiskit.chemistry.components.variational_forms import UCCSD\n",
    "from qiskit.chemistry.drivers import PyQuanteDriver, BasisType\n",
    "from qiskit.chemistry.drivers import PySCFDriver, UnitsType\n",
    "from qiskit.chemistry.core import Hamiltonian, TransformationType, QubitMappingType"
   ]
  },
  {
   "cell_type": "code",
   "execution_count": 12,
   "metadata": {},
   "outputs": [
    {
     "name": "stdout",
     "output_type": "stream",
     "text": [
      "Hartree-Fock energy: -1.0661086493179366\n",
      "Nuclear repulsion energy: 0.52917721092\n",
      "Number of molecular orbitals: 2\n",
      "Number of alpha electrons: 1\n",
      "Number of beta electrons: 1\n"
     ]
    }
   ],
   "source": [
    "driver = PySCFDriver(atom='H .0 .0 -0.5; H .0 .0 0.5',\n",
    "                     unit=UnitsType.ANGSTROM, charge=0, spin=0, basis='sto3g')\n",
    "molecule = driver.run()\n",
    "\n",
    "print('Hartree-Fock energy: {}'.format(molecule.hf_energy))\n",
    "print('Nuclear repulsion energy: {}'.format(molecule.nuclear_repulsion_energy))\n",
    "print('Number of molecular orbitals: {}'.format(molecule.num_orbitals))\n",
    "print('Number of alpha electrons: {}'.format(molecule.num_alpha))\n",
    "print('Number of beta electrons: {}'.format(molecule.num_beta))"
   ]
  },
  {
   "cell_type": "code",
   "execution_count": 13,
   "metadata": {},
   "outputs": [
    {
     "name": "stdout",
     "output_type": "stream",
     "text": [
      "Representation: paulis, qubits: 4, size: 15\n"
     ]
    }
   ],
   "source": [
    "core = Hamiltonian(qubit_mapping=QubitMappingType.JORDAN_WIGNER,\n",
    "                                two_qubit_reduction=False)\n",
    "qubit_op, aux_ops = core.run(molecule)\n",
    "\n",
    "print(qubit_op)"
   ]
  },
  {
   "cell_type": "code",
   "execution_count": 14,
   "metadata": {},
   "outputs": [],
   "source": [
    "molecule = 'H .0 .0 -{0}; H .0 .0 {0}'\n",
    "algorithms = ['VQE', 'ExactEigensolver']\n",
    "\n",
    "start = 0.5  # Start distance\n",
    "by    = 0.5  # How much to increase distance by\n",
    "steps = 20   # Number of steps to increase by\n",
    "energies = np.empty([len(algorithms), steps+1])\n",
    "hf_energies = np.empty(steps+1)\n",
    "distances = np.empty(steps+1)\n",
    "eval_counts = np.empty(steps+1)"
   ]
  },
  {
   "cell_type": "code",
   "execution_count": 15,
   "metadata": {},
   "outputs": [
    {
     "name": "stdout",
     "output_type": "stream",
     "text": [
      "Processing step 20 --- complete\n",
      "Distances:  [0.5   0.525 0.55  0.575 0.6   0.625 0.65  0.675 0.7   0.725 0.75  0.775\n",
      " 0.8   0.825 0.85  0.875 0.9   0.925 0.95  0.975 1.   ]\n",
      "Energies: [[-1.05515978 -1.07591365 -1.09262989 -1.10591804 -1.116286   -1.12416091\n",
      "  -1.12990477 -1.13382618 -1.13618943 -1.13722137 -1.13711706 -1.13604436\n",
      "  -1.13414766 -1.1315512  -1.12836187 -1.12467174 -1.12056028 -1.11609623\n",
      "  -1.11133941 -1.10634209 -1.10115031]\n",
      " [-1.05515979 -1.07591366 -1.09262991 -1.10591805 -1.11628601 -1.12416092\n",
      "  -1.12990478 -1.13382622 -1.13618945 -1.13722138 -1.13711707 -1.13604436\n",
      "  -1.13414767 -1.13155121 -1.12836188 -1.12467175 -1.12056028 -1.11609624\n",
      "  -1.11133942 -1.10634211 -1.10115033]]\n",
      "Hartree-Fock energies: [-1.04299627 -1.06306214 -1.07905074 -1.0915705  -1.10112824 -1.10814999\n",
      " -1.11299655 -1.11597526 -1.11734903 -1.11734327 -1.11615145 -1.11393966\n",
      " -1.1108504  -1.10700581 -1.10251055 -1.09745432 -1.09191404 -1.08595587\n",
      " -1.07963693 -1.07300676 -1.06610865]\n",
      "VQE num evaluations: [49. 52. 56. 50. 41. 49. 45. 45. 51. 46. 42. 56. 46. 47. 44. 50. 47. 49.\n",
      " 51. 58. 55.]\n"
     ]
    }
   ],
   "source": [
    "print('Processing step __', end='')\n",
    "for i in range(steps+1):\n",
    "    print('\\b\\b{:2d}'.format(i), end='', flush=True)\n",
    "    d = start + i*by/steps \n",
    "    for j in range(len(algorithms)):\n",
    "        #driver = PyQuanteDriver(atoms=molecule.format(d/2), basis=BasisType.BSTO3G)\n",
    "        #qmolecule = driver.run()\n",
    "        driver = PySCFDriver(molecule.format(d/2), basis='sto3g')\n",
    "        qmolecule = driver.run()\n",
    "        operator =  Hamiltonian(qubit_mapping=QubitMappingType.JORDAN_WIGNER,\n",
    "                                two_qubit_reduction=False)\n",
    "        qubit_op, aux_ops = operator.run(qmolecule)\n",
    "        \n",
    "        if algorithms[j] == 'ExactEigensolver':\n",
    "            result = ExactEigensolver(qubit_op).run()\n",
    "        else:\n",
    "            optimizer = COBYLA(maxiter=10000)\n",
    "            initial_state = HartreeFock(qubit_op.num_qubits,\n",
    "                                        operator.molecule_info['num_orbitals'],\n",
    "                                        operator.molecule_info['num_particles'],\n",
    "                                        qubit_mapping=operator._qubit_mapping,\n",
    "                                        two_qubit_reduction=operator._two_qubit_reduction)\n",
    "            var_form = UCCSD(qubit_op.num_qubits, depth=1,\n",
    "                            num_orbitals=operator.molecule_info['num_orbitals'],\n",
    "                            num_particles=operator.molecule_info['num_particles'],\n",
    "                            initial_state=initial_state,\n",
    "                            qubit_mapping=operator._qubit_mapping,\n",
    "                            two_qubit_reduction=operator._two_qubit_reduction)\n",
    "            algo = VQE(qubit_op, var_form, optimizer)\n",
    "            result = algo.run(QuantumInstance(BasicAer.get_backend('statevector_simulator')))\n",
    "        \n",
    "        lines, result = operator.process_algorithm_result(result)\n",
    "        energies[j][i] = result['energy']\n",
    "        hf_energies[i] = result['hf_energy']\n",
    "        if algorithms[j] == 'VQE':\n",
    "            eval_counts[i] = result['algorithm_retvals']['eval_count']\n",
    "    distances[i] = d\n",
    "print(' --- complete')\n",
    "\n",
    "print('Distances: ', distances)\n",
    "print('Energies:', energies)\n",
    "print('Hartree-Fock energies:', hf_energies)\n",
    "print('VQE num evaluations:', eval_counts)\n"
   ]
  },
  {
   "cell_type": "code",
   "execution_count": 16,
   "metadata": {},
   "outputs": [
    {
     "data": {
      "image/png": "[encoded data removed]",
      "text/plain": [
       "<Figure size 432x288 with 1 Axes>"
      ]
     },
     "metadata": {
      "needs_background": "light"
     },
     "output_type": "display_data"
    }
   ],
   "source": [
    "pylab.plot(distances, hf_energies, label='Hartree-Fock')\n",
    "for j in range(len(algorithms)):\n",
    "    pylab.plot(distances, energies[j], label=algorithms[j])\n",
    "pylab.xlabel('Interatomic distance')\n",
    "pylab.ylabel('Energy')\n",
    "pylab.title('H2 Ground State Energy')\n",
    "pylab.legend(loc='upper right');"
   ]
  },
  {
   "cell_type": "code",
   "execution_count": null,
   "metadata": {},
   "outputs": [],
   "source": []
  }
 ],
 "metadata": {
  "kernelspec": {
   "display_name": "Python 3",
   "language": "python",
   "name": "python3"
  },
  "language_info": {
   "codemirror_mode": {
    "name": "ipython",
    "version": 3
   },
   "file_extension": ".py",
   "mimetype": "text/x-python",
   "name": "python",
   "nbconvert_exporter": "python",
   "pygments_lexer": "ipython3",
   "version": "3.7.1"
  }
 },
 "nbformat": 4,
 "nbformat_minor": 2
}
