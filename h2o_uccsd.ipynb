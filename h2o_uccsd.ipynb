{
 "cells": [
  {
   "cell_type": "code",
   "execution_count": 26,
   "metadata": {},
   "outputs": [],
   "source": [
    "from qiskit import BasicAer\n",
    "\n",
    "from qiskit.aqua import QuantumInstance\n",
    "from qiskit.aqua.algorithms.adaptive import VQE\n",
    "from qiskit.aqua.algorithms.classical import ExactEigensolver\n",
    "from qiskit.aqua.components.optimizers import SLSQP\n",
    "from qiskit.chemistry.drivers import PySCFDriver, UnitsType\n",
    "from qiskit.chemistry.core import Hamiltonian, TransformationType, QubitMappingType \n",
    "from qiskit.chemistry.components.variational_forms import UCCSD\n",
    "from qiskit.chemistry.components.initial_states import HartreeFock\n",
    "import numpy as np\n",
    "import pylab"
   ]
  },
  {
   "cell_type": "code",
   "execution_count": 27,
   "metadata": {},
   "outputs": [
    {
     "name": "stdout",
     "output_type": "stream",
     "text": [
      "Hartree-Fock energy: -74.9629466565383\n",
      "Nuclear repulsion energy: 9.193913160623385\n",
      "Number of molecular orbitals: 7\n",
      "Number of alpha electrons: 5\n",
      "Number of beta electrons: 5\n"
     ]
    }
   ],
   "source": [
    "driver = PySCFDriver(atom='O 0.0 0.0 0.0; H 0.757 0.586 0.0; H -0.757 0.586 0.0',\n",
    "                     unit=UnitsType.ANGSTROM, charge=0, spin=0, basis='sto3g')\n",
    "molecule = driver.run()\n",
    "\n",
    "print('Hartree-Fock energy: {}'.format(molecule.hf_energy))\n",
    "print('Nuclear repulsion energy: {}'.format(molecule.nuclear_repulsion_energy))\n",
    "print('Number of molecular orbitals: {}'.format(molecule.num_orbitals))\n",
    "print('Number of alpha electrons: {}'.format(molecule.num_alpha))\n",
    "print('Number of beta electrons: {}'.format(molecule.num_beta))"
   ]
  },
  {
   "cell_type": "code",
   "execution_count": 28,
   "metadata": {},
   "outputs": [
    {
     "name": "stdout",
     "output_type": "stream",
     "text": [
      "Representation: paulis, qubits: 10, size: 551\n"
     ]
    }
   ],
   "source": [
    "core = Hamiltonian(transformation=TransformationType.FULL, qubit_mapping=QubitMappingType.PARITY, \n",
    "                   two_qubit_reduction=True, freeze_core=True)\n",
    "qubit_op, aux_ops = core.run(molecule)\n",
    "\n",
    "print(qubit_op)"
   ]
  },
  {
   "cell_type": "code",
   "execution_count": 40,
   "metadata": {},
   "outputs": [
    {
     "name": "stdout",
     "output_type": "stream",
     "text": [
      "0\n",
      "1\n",
      "2\n",
      "3\n",
      "4\n",
      "5\n",
      "6\n",
      "7\n",
      "8\n",
      "9\n",
      "10\n",
      "11\n",
      "12\n",
      "13\n",
      "14\n",
      "15\n"
     ]
    }
   ],
   "source": [
    "h2o = 'H; O 1 1.08; H 2 {} 1 104.5'\n",
    "algorithms = ['VQE', 'ExactEigensolver']\n",
    "\n",
    "#distances = [x * 0.01 + 1.00 for x in range(17)]\n",
    "#distances = [x * 0.1  for x in range(5, 13)]\n",
    "distances = [x * 0.1  for x in range(5, 21)]\n",
    "energies = np.empty([len(algorithms), len(distances)])\n",
    "hf_energies = np.empty(len(distances))\n",
    "\n",
    "for i, distance in enumerate(distances):\n",
    "    print(i)\n",
    "    for j in range(len(algorithms)):\n",
    "        driver = PySCFDriver(h2o.format(distance), basis='sto3g')\n",
    "        qmolecule = driver.run()\n",
    "        core = Hamiltonian(transformation=TransformationType.FULL, qubit_mapping=QubitMappingType.PARITY, \n",
    "                               two_qubit_reduction=True, freeze_core=True)\n",
    "        qubit_op, aux_ops = core.run(qmolecule)\n",
    "        #optimizer = SLSQP(maxiter=2500)\n",
    "        if algorithms[j] == 'ExactEigensolver':\n",
    "            algo_result = ExactEigensolver(qubit_op).run()\n",
    "        else:  \n",
    "            init_state = HartreeFock(num_qubits=qubit_op.num_qubits, \n",
    "                                 num_orbitals=core._molecule_info['num_orbitals'],\n",
    "                                 num_particles=core._molecule_info['num_particles'],\n",
    "                                 qubit_mapping=core._qubit_mapping,\n",
    "                                 two_qubit_reduction=core._two_qubit_reduction)\n",
    "\n",
    "            var_form = UCCSD(num_qubits=qubit_op.num_qubits,\n",
    "                         depth=1,\n",
    "                         num_orbitals=core._molecule_info['num_orbitals'], \n",
    "                         num_particles=core._molecule_info['num_particles'],\n",
    "                         qubit_mapping=core._qubit_mapping,\n",
    "                         two_qubit_reduction=core._two_qubit_reduction, \n",
    "                         initial_state=init_state)\n",
    "            optimizer = SLSQP(maxiter=2500)\n",
    "    \n",
    "            backend = BasicAer.get_backend('statevector_simulator')\n",
    "            quantum_instance = QuantumInstance(backend=backend)\n",
    "            vqe = VQE(qubit_op, var_form, optimizer)\n",
    "            algo_result = vqe.run(quantum_instance)\n",
    "    \n",
    "        lines, result = core.process_algorithm_result(algo_result)\n",
    "    \n",
    "        energies[j][i] = result['energy']\n",
    "        hf_energies[i] = result['hf_energy']"
   ]
  },
  {
   "cell_type": "code",
   "execution_count": 65,
   "metadata": {},
   "outputs": [
    {
     "data": {
      "image/png": "[encoded data removed]",
      "text/plain": [
       "<Figure size 432x288 with 1 Axes>"
      ]
     },
     "metadata": {
      "needs_background": "light"
     },
     "output_type": "display_data"
    }
   ],
   "source": [
    "pylab.plot(distances, hf_energies, label='Hartree-Fock')\n",
    "for j in range(len(algorithms)):\n",
    "    pylab.plot(distances, energies[j], label=algorithms[j])\n",
    "pylab.xlabel('Distance of Hydrogen atom (Å)')\n",
    "pylab.ylabel('Energy (Hartrees)')\n",
    "pylab.title(r'$H_2$O molecule, one H atom distance varied');\n",
    "pylab.legend(loc='upper right');"
   ]
  }
 ],
 "metadata": {
  "kernelspec": {
   "display_name": "Python 3",
   "language": "python",
   "name": "python3"
  },
  "language_info": {
   "codemirror_mode": {
    "name": "ipython",
    "version": 3
   },
   "file_extension": ".py",
   "mimetype": "text/x-python",
   "name": "python",
   "nbconvert_exporter": "python",
   "pygments_lexer": "ipython3",
   "version": "3.7.1"
  }
 },
 "nbformat": 4,
 "nbformat_minor": 2
}
