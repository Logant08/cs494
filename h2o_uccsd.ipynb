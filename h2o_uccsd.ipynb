{
 "cells": [
  {
   "cell_type": "code",
   "execution_count": 4,
   "metadata": {},
   "outputs": [],
   "source": [
    "from qiskit import BasicAer\n",
    "\n",
    "from qiskit.aqua import QuantumInstance\n",
    "from qiskit.aqua.algorithms.adaptive import VQE\n",
    "from qiskit.aqua.algorithms.classical import ExactEigensolver\n",
    "from qiskit.aqua.components.optimizers import SLSQP\n",
    "from qiskit.aqua.components.variational_forms import RYRZ\n",
    "from qiskit.chemistry.drivers import PySCFDriver, UnitsType\n",
    "from qiskit.chemistry.core import Hamiltonian, TransformationType, QubitMappingType \n",
    "from qiskit.chemistry.components.variational_forms import UCCSD\n",
    "from qiskit.chemistry.components.initial_states import HartreeFock"
   ]
  },
  {
   "cell_type": "code",
   "execution_count": 10,
   "metadata": {},
   "outputs": [
    {
     "name": "stdout",
     "output_type": "stream",
     "text": [
      "Processing step __0\n",
      "1\n",
      "2\n",
      "3\n",
      "4\n",
      "5\n",
      "6\n",
      "7\n",
      "8\n",
      "9\n",
      "10\n",
      "11\n",
      "12\n",
      "13\n",
      "14\n",
      "15\n",
      "16\n",
      "17\n",
      "18\n",
      "19\n",
      "20\n",
      "21\n",
      "22\n",
      " --- complete\n",
      "Distances:  [1.72723371e-077 2.32036210e+077 7.90505033e-323 0.00000000e+000\n",
      " 2.01589600e-312 5.02034658e+175 5.73728030e+174 2.61266052e-057\n",
      " 6.34435092e-066 1.04085097e-042 1.47763641e+248 1.16096346e-028\n",
      " 7.69165785e+218 1.35617292e+248 6.21063611e-038 1.10593007e-046\n",
      " 3.38147320e-061 1.95451295e+184 4.30621354e-096 6.32299154e+233\n",
      " 6.48224638e+170 5.22411352e+257 5.74020278e+180]\n",
      "Energies: [[-74.55901665 -74.81693134 -74.94311308 -74.99944901 -75.01742385\n",
      "  -75.01416567 -74.99979751 -74.98050015 -74.95994873 -74.94023762\n",
      "  -74.92252253 -74.9073896  -74.89502867 -74.88532937 -74.87797673\n",
      "  -74.8671312  -74.86254799 -74.86072632 -74.85966737 -74.85964364\n",
      "  -74.85965951 -74.85965854 -74.85953593]\n",
      " [-74.55909138 -74.81701354 -74.94320704 -74.99955788 -75.01755036\n",
      "  -75.01431156 -74.99996286 -74.98068211 -74.96014207 -74.94043559\n",
      "  -74.92271708 -74.90757295 -74.89519489 -74.88547475 -74.87809943\n",
      "  -74.86720191 -74.8625845  -74.86074573 -74.86004965 -74.85979853\n",
      "  -74.85971293 -74.85968471 -74.85967745]]\n",
      "Hartree-Fock energies: [-74.51816479 -74.77220231 -74.89390244 -74.94487859 -74.95636532\n",
      " -74.94525356 -74.92145683 -74.89099578 -74.85745361 -74.8229206\n",
      " -74.78866831 -74.75555561 -74.72420834 -74.6950675  -74.66839579\n",
      " -74.61285016 -74.57173879 -74.54207778 -74.48853402 -74.4787595\n",
      " -74.48735136 -74.10624976 -74.08886825]\n",
      "VQE num evaluations: [ 761.  761.  759.  666.  666.  666.  759.  761.  855.  855.  948.  950.\n",
      " 1043. 1043. 1044. 1045. 1045. 1045. 1231. 1139. 1231. 6212. 8951.]\n"
     ]
    }
   ],
   "source": [
    "import numpy as np\n",
    "import pylab\n",
    "\n",
    "h2o = 'H; O 1 1.08; H 2 {} 1 104.5'\n",
    "algorithms = ['VQE', 'ExactEigensolver']\n",
    "\n",
    "pts  = [x * 0.1  for x in range(6, 20)]\n",
    "pts += [x * 0.25 for x in range(8, 16)]\n",
    "pts += [4.0]\n",
    "#distances = [x * 0.01 + 1.00 for x in range(17)]\n",
    "energies = np.empty([len(algorithms), len(pts)])\n",
    "hf_energies = np.empty(len(pts))\n",
    "distances = np.empty(len(pts))\n",
    "eval_counts = np.empty(len(pts))\n",
    "\n",
    "print('Processing step __', end='')\n",
    "for i, distance in enumerate(pts):\n",
    "    print(i)\n",
    "    for j in range(len(algorithms)):\n",
    "        driver = PySCFDriver(h2o.format(distance), basis='sto3g')\n",
    "        qmolecule = driver.run()\n",
    "        operator =  Hamiltonian(transformation=TransformationType.FULL, qubit_mapping=QubitMappingType.PARITY, \n",
    "                                two_qubit_reduction=True, freeze_core=True)\n",
    "        qubit_op, aux_ops = operator.run(qmolecule)\n",
    "        if algorithms[j] == 'ExactEigensolver':\n",
    "            #result = ExactEigensolver(qubit_op).run()\n",
    "            result = ExactEigensolver(qubit_op, aux_operators=aux_ops).run()\n",
    "        else:\n",
    "            optimizer = SLSQP(maxiter=2500)\n",
    "            init_state = HartreeFock(num_qubits=qubit_op.num_qubits, \n",
    "                                     num_orbitals=operator._molecule_info['num_orbitals'],\n",
    "                                     num_particles=operator._molecule_info['num_particles'],\n",
    "                                     qubit_mapping=operator._qubit_mapping,\n",
    "                                     two_qubit_reduction=operator._two_qubit_reduction)\n",
    "            var_form = UCCSD(num_qubits=qubit_op.num_qubits,\n",
    "                             depth=1,\n",
    "                             num_orbitals=operator._molecule_info['num_orbitals'], \n",
    "                             num_particles=operator._molecule_info['num_particles'],\n",
    "                             qubit_mapping=operator._qubit_mapping,\n",
    "                             two_qubit_reduction=operator._two_qubit_reduction, \n",
    "                             initial_state=init_state)\n",
    "            algo = VQE(qubit_op, var_form, optimizer)\n",
    "            result = algo.run(QuantumInstance(BasicAer.get_backend('statevector_simulator')))\n",
    "        lines, result = operator.process_algorithm_result(result)\n",
    "        energies[j][i] = result['energy']\n",
    "        hf_energies[i] = result['hf_energy']\n",
    "        if algorithms[j] == 'VQE':\n",
    "            eval_counts[i] = result['algorithm_retvals']['eval_count']\n",
    "    #distances[i] = d\n",
    "print(' --- complete')\n",
    "\n",
    "print('Distances: ', distances)\n",
    "print('Energies:', energies)\n",
    "print('Hartree-Fock energies:', hf_energies)\n",
    "print('VQE num evaluations:', eval_counts)"
   ]
  },
  {
   "cell_type": "code",
   "execution_count": 11,
   "metadata": {},
   "outputs": [
    {
     "data": {
      "image/png": "[encoded data removed]",
      "text/plain": [
       "<Figure size 432x288 with 1 Axes>"
      ]
     },
     "metadata": {
      "needs_background": "light"
     },
     "output_type": "display_data"
    }
   ],
   "source": [
    "pylab.plot(distances, hf_energies, label='Hartree-Fock')\n",
    "for j in range(len(algorithms)):\n",
    "    pylab.plot(distances, energies[j], label=algorithms[j])\n",
    "pylab.xlabel('Interatomic distance')\n",
    "pylab.ylabel('Energy')\n",
    "pylab.title('H2O Ground State Energy')\n",
    "pylab.legend(loc='upper right');"
   ]
  },
  {
   "cell_type": "code",
   "execution_count": null,
   "metadata": {},
   "outputs": [],
   "source": []
  }
 ],
 "metadata": {
  "kernelspec": {
   "display_name": "Python 3",
   "language": "python",
   "name": "python3"
  },
  "language_info": {
   "codemirror_mode": {
    "name": "ipython",
    "version": 3
   },
   "file_extension": ".py",
   "mimetype": "text/x-python",
   "name": "python",
   "nbconvert_exporter": "python",
   "pygments_lexer": "ipython3",
   "version": "3.7.1"
  }
 },
 "nbformat": 4,
 "nbformat_minor": 2
}
