{
 "cells": [
  {
   "cell_type": "code",
   "execution_count": 37,
   "metadata": {},
   "outputs": [],
   "source": [
    "from qiskit import BasicAer\n",
    "\n",
    "from qiskit.aqua import QuantumInstance\n",
    "from qiskit.aqua.algorithms.adaptive import VQE\n",
    "from qiskit.aqua.algorithms.classical import ExactEigensolver\n",
    "from qiskit.aqua.components.optimizers import SLSQP\n",
    "from qiskit.aqua.components.variational_forms import RYRZ\n",
    "from qiskit.chemistry.drivers import PySCFDriver, UnitsType\n",
    "from qiskit.chemistry.core import Hamiltonian, TransformationType, QubitMappingType \n",
    "from qiskit.chemistry.components.variational_forms import UCCSD\n",
    "from qiskit.chemistry.components.initial_states import HartreeFock"
   ]
  },
  {
   "cell_type": "code",
   "execution_count": 41,
   "metadata": {},
   "outputs": [
    {
     "name": "stdout",
     "output_type": "stream",
     "text": [
      "Processing step __0\n",
      "1\n",
      "2\n",
      "3\n",
      "4\n",
      "5\n",
      "6\n",
      "7\n",
      "8\n",
      "9\n",
      "10\n",
      "11\n",
      "12\n",
      "13\n",
      "14\n",
      "15\n",
      "16\n",
      "17\n",
      "18\n",
      "19\n",
      "20\n",
      "21\n",
      "22\n",
      " --- complete\n",
      "Distances:  [0.6  0.7  0.8  0.9  1.   1.1  1.2  1.3  1.4  1.5  1.6  1.7  1.8  1.9\n",
      " 2.   2.25 2.5  2.75 3.   3.25 3.5  3.75 4.  ]\n",
      "Energies: [[-70.85026638 -72.13537892 -73.01077785 -73.61810837 -74.04437782\n",
      "  -74.34557783 -74.55901665 -74.71021452 -74.81693134 -74.89163557\n",
      "  -74.94311308 -74.9775751  -74.99944901 -75.01194059 -75.01742385\n",
      "  -75.01132034 -74.99048895 -74.96506965 -74.94023762 -74.91848403\n",
      "  -74.90086356 -74.88751939 -74.87797673]\n",
      " [-70.85032882 -72.13544911 -73.0108502  -73.61818079 -74.04444997\n",
      "  -74.34565064 -74.55909138 -74.71029241 -74.81701354 -74.89172329\n",
      "  -74.94320704 -74.97767613 -74.99955788 -75.01205799 -75.01755036\n",
      "  -75.01147117 -74.99066302 -74.9652607  -74.94043559 -74.91867629\n",
      "  -74.90103892 -74.88767022 -74.87809943]]\n",
      "Hartree-Fock energies: [-70.82124852 -72.10404193 -72.97731386 -73.58269635 -74.00713059\n",
      " -74.30653774 -74.51816479 -74.66748087 -74.77220231 -74.84475933\n",
      " -74.89390244 -74.92581025 -74.94487859 -74.95428236 -74.95636532\n",
      " -74.94020599 -74.90679073 -74.86599545 -74.8229206  -74.78025553\n",
      " -74.73962951 -74.7021285  -74.66839579]\n",
      "VQE num evaluations: [ 856.  856.  856.  761.  761.  761.  761.  761.  761.  759.  759.  666.\n",
      "  666.  666.  666.  666.  761.  855.  855.  950. 1043. 1043. 1044.]\n"
     ]
    }
   ],
   "source": [
    "import numpy as np\n",
    "import pylab\n",
    "\n",
    "h2o = 'H; O 1 1.08; H 2 {} 1 104.5'\n",
    "algorithms = ['VQE', 'ExactEigensolver']\n",
    "\n",
    "pts  = [x * 0.1  for x in range(6, 20)]\n",
    "pts += [x * 0.25 for x in range(8, 16)]\n",
    "pts += [4.0]\n",
    "#distances = [x * 0.01 + 1.00 for x in range(17)]\n",
    "energies = np.empty([len(algorithms), len(pts)])\n",
    "hf_energies = np.empty(len(pts))\n",
    "distances = np.empty(len(pts))\n",
    "eval_counts = np.empty(len(pts))\n",
    "\n",
    "print('Processing step __', end='')\n",
    "for i, d in enumerate(pts):\n",
    "    print(i)\n",
    "    for j in range(len(algorithms)):\n",
    "        driver = PySCFDriver(h2o.format(d/2), basis='sto3g')\n",
    "        qmolecule = driver.run()\n",
    "        operator =  Hamiltonian(transformation=TransformationType.FULL, qubit_mapping=QubitMappingType.PARITY, \n",
    "                                two_qubit_reduction=True, freeze_core=True)\n",
    "        qubit_op, aux_ops = operator.run(qmolecule)\n",
    "        if algorithms[j] == 'ExactEigensolver':\n",
    "            #result = ExactEigensolver(qubit_op).run()\n",
    "            result = ExactEigensolver(qubit_op, aux_operators=aux_ops).run()\n",
    "        else:\n",
    "            optimizer = SLSQP(maxiter=2500)\n",
    "            init_state = HartreeFock(num_qubits=qubit_op.num_qubits, \n",
    "                                     num_orbitals=core._molecule_info['num_orbitals'],\n",
    "                                     num_particles=core._molecule_info['num_particles'],\n",
    "                                     qubit_mapping=core._qubit_mapping,\n",
    "                                     two_qubit_reduction=core._two_qubit_reduction)\n",
    "            var_form = UCCSD(num_qubits=qubit_op.num_qubits,\n",
    "                             depth=1,\n",
    "                             num_orbitals=core._molecule_info['num_orbitals'], \n",
    "                             num_particles=core._molecule_info['num_particles'],\n",
    "                             qubit_mapping=core._qubit_mapping,\n",
    "                             two_qubit_reduction=core._two_qubit_reduction, \n",
    "                             initial_state=init_state)\n",
    "            algo = VQE(qubit_op, var_form, optimizer)\n",
    "            result = algo.run(quantum_instance)\n",
    "        lines, result = operator.process_algorithm_result(result)\n",
    "        energies[j][i] = result['energy']\n",
    "        hf_energies[i] = result['hf_energy']\n",
    "        if algorithms[j] == 'VQE':\n",
    "            eval_counts[i] = result['algorithm_retvals']['eval_count']\n",
    "    distances[i] = d\n",
    "print(' --- complete')\n",
    "\n",
    "print('Distances: ', distances)\n",
    "print('Energies:', energies)\n",
    "print('Hartree-Fock energies:', hf_energies)\n",
    "print('VQE num evaluations:', eval_counts)"
   ]
  },
  {
   "cell_type": "code",
   "execution_count": 42,
   "metadata": {},
   "outputs": [
    {
     "data": {
      "image/png": "[encoded data removed]",
      "text/plain": [
       "<Figure size 432x288 with 1 Axes>"
      ]
     },
     "metadata": {
      "needs_background": "light"
     },
     "output_type": "display_data"
    }
   ],
   "source": [
    "pylab.plot(distances, hf_energies, label='Hartree-Fock')\n",
    "for j in range(len(algorithms)):\n",
    "    pylab.plot(distances, energies[j], label=algorithms[j])\n",
    "pylab.xlabel('Interatomic distance')\n",
    "pylab.ylabel('Energy')\n",
    "pylab.title('H2O Ground State Energy')\n",
    "pylab.legend(loc='upper right');"
   ]
  },
  {
   "cell_type": "code",
   "execution_count": null,
   "metadata": {},
   "outputs": [],
   "source": []
  }
 ],
 "metadata": {
  "kernelspec": {
   "display_name": "Python 3",
   "language": "python",
   "name": "python3"
  },
  "language_info": {
   "codemirror_mode": {
    "name": "ipython",
    "version": 3
   },
   "file_extension": ".py",
   "mimetype": "text/x-python",
   "name": "python",
   "nbconvert_exporter": "python",
   "pygments_lexer": "ipython3",
   "version": "3.7.1"
  }
 },
 "nbformat": 4,
 "nbformat_minor": 2
}
