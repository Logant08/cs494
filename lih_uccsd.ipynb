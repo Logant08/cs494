{
 "cells": [
  {
   "cell_type": "code",
   "execution_count": 3,
   "metadata": {},
   "outputs": [],
   "source": [
    "import numpy as np\n",
    "import pylab\n",
    "import copy\n",
    "from qiskit import BasicAer\n",
    "from qiskit.aqua import aqua_globals, QuantumInstance\n",
    "from qiskit.aqua.algorithms import ExactEigensolver, VQE\n",
    "from qiskit.aqua.components.optimizers import SLSQP\n",
    "from qiskit.chemistry.components.initial_states import HartreeFock\n",
    "from qiskit.chemistry.components.variational_forms import UCCSD\n",
    "from qiskit.chemistry.drivers import PySCFDriver, UnitsType\n",
    "from qiskit.chemistry.core import Hamiltonian, QubitMappingType"
   ]
  },
  {
   "cell_type": "code",
   "execution_count": 4,
   "metadata": {},
   "outputs": [
    {
     "name": "stdout",
     "output_type": "stream",
     "text": [
      "Hartree-Fock energy: -7.835615825556919\n",
      "Nuclear repulsion energy: 1.3229430273\n",
      "Number of molecular orbitals: 6\n",
      "Number of alpha electrons: 2\n",
      "Number of beta electrons: 2\n"
     ]
    }
   ],
   "source": [
    "driver = PySCFDriver(atom='H .0 .0 -0.6; Li .0 .0 0.6',\n",
    "                     unit=UnitsType.ANGSTROM, charge=0, spin=0, basis='sto3g')\n",
    "molecule = driver.run()\n",
    "\n",
    "print('Hartree-Fock energy: {}'.format(molecule.hf_energy))\n",
    "print('Nuclear repulsion energy: {}'.format(molecule.nuclear_repulsion_energy))\n",
    "print('Number of molecular orbitals: {}'.format(molecule.num_orbitals))\n",
    "print('Number of alpha electrons: {}'.format(molecule.num_alpha))\n",
    "print('Number of beta electrons: {}'.format(molecule.num_beta))"
   ]
  },
  {
   "cell_type": "code",
   "execution_count": 5,
   "metadata": {},
   "outputs": [
    {
     "name": "stdout",
     "output_type": "stream",
     "text": [
      "Representation: paulis, qubits: 4, size: 100\n"
     ]
    }
   ],
   "source": [
    "core = Hamiltonian(qubit_mapping=QubitMappingType.PARITY,\n",
    "                   two_qubit_reduction=True, freeze_core=True,\n",
    "                   orbital_reduction=[-3, -2])\n",
    "qubit_op, aux_ops = core.run(molecule)\n",
    "\n",
    "print(qubit_op)"
   ]
  },
  {
   "cell_type": "code",
   "execution_count": 6,
   "metadata": {},
   "outputs": [
    {
     "name": "stdout",
     "output_type": "stream",
     "text": [
      "Processing step 22 --- complete\n",
      "Distances:  [0.6  0.7  0.8  0.9  1.   1.1  1.2  1.3  1.4  1.5  1.6  1.7  1.8  1.9\n",
      " 2.   2.25 2.5  2.75 3.   3.25 3.5  3.75 4.  ]\n",
      "Energies: [[-7.3133458  -7.50092206 -7.63097823 -7.7208124  -7.78224239 -7.82359927\n",
      "  -7.85069837 -7.86756328 -7.87700148 -7.8810157  -7.88107203 -7.87826815\n",
      "  -7.87344011 -7.86723367 -7.86015319 -7.84104235 -7.82307636 -7.80861236\n",
      "  -7.79836328 -7.79175303 -7.78771683 -7.7853196  -7.78391829]\n",
      " [-7.31334583 -7.50092209 -7.63097825 -7.72081241 -7.7822424  -7.82359928\n",
      "  -7.85069838 -7.86756329 -7.87700149 -7.88101572 -7.88107204 -7.87826817\n",
      "  -7.87344029 -7.86723396 -7.86015321 -7.84104271 -7.82307664 -7.8086124\n",
      "  -7.79836343 -7.79175325 -7.78771697 -7.78531972 -7.78391847]]\n",
      "Hartree-Fock energies: [-7.29954105 -7.48594487 -7.61577016 -7.70575334 -7.76736214 -7.80874318\n",
      " -7.83561583 -7.85195386 -7.86053866 -7.86335762 -7.86186477 -7.85714496\n",
      " -7.8500187  -7.84111204 -7.83090558 -7.80193896 -7.77087367 -7.74000074\n",
      " -7.7108299  -7.68437642 -7.6612016  -7.64145387 -7.62497563]\n",
      "VQE num evaluations: [71. 62. 71. 71. 71. 71. 71. 71. 71. 71. 71. 62. 60. 60. 61. 60. 70. 71.\n",
      " 70. 80. 90. 90. 90.]\n"
     ]
    }
   ],
   "source": [
    "molecule = 'H .0 .0 -{0}; Li .0 .0 {0}'\n",
    "algorithms = ['VQE', 'ExactEigensolver']\n",
    "\n",
    "pts  = [x * 0.1  for x in range(6, 20)]\n",
    "pts += [x * 0.25 for x in range(8, 16)]\n",
    "pts += [4.0]\n",
    "energies = np.empty([len(algorithms), len(pts)])\n",
    "hf_energies = np.empty(len(pts))\n",
    "distances = np.empty(len(pts))\n",
    "dipoles     = np.empty([len(algorithms), len(pts)])\n",
    "eval_counts = np.empty(len(pts))\n",
    "\n",
    "print('Processing step __', end='')\n",
    "for i, d in enumerate(pts):\n",
    "    print('\\b\\b{:2d}'.format(i), end='', flush=True)\n",
    "    for j in range(len(algorithms)):   \n",
    "        driver = PySCFDriver(molecule.format(d/2), basis='sto3g')\n",
    "        qmolecule = driver.run()\n",
    "        operator =  Hamiltonian(qubit_mapping=QubitMappingType.PARITY,\n",
    "                                two_qubit_reduction=True, freeze_core=True,\n",
    "                                orbital_reduction=[-3, -2])\n",
    "        qubit_op, aux_ops = operator.run(qmolecule)\n",
    "        if algorithms[j] == 'ExactEigensolver':\n",
    "            result = ExactEigensolver(qubit_op, aux_operators=aux_ops).run()\n",
    "        else:\n",
    "            optimizer = SLSQP(maxiter=1000)\n",
    "            initial_state = HartreeFock(qubit_op.num_qubits,\n",
    "                                        operator.molecule_info['num_orbitals'],\n",
    "                                        operator.molecule_info['num_particles'],\n",
    "                                        qubit_mapping=operator._qubit_mapping,\n",
    "                                        two_qubit_reduction=operator._two_qubit_reduction)\n",
    "            var_form = UCCSD(qubit_op.num_qubits, depth=1,\n",
    "                            num_orbitals=operator.molecule_info['num_orbitals'],\n",
    "                            num_particles=operator.molecule_info['num_particles'],\n",
    "                            initial_state=initial_state,\n",
    "                            qubit_mapping=operator._qubit_mapping,\n",
    "                            two_qubit_reduction=operator._two_qubit_reduction)\n",
    "            algo = VQE(qubit_op, var_form, optimizer, aux_operators=aux_ops)\n",
    "            result = algo.run(QuantumInstance(BasicAer.get_backend('statevector_simulator')))\n",
    "            \n",
    "        lines, result = operator.process_algorithm_result(result)\n",
    "        energies[j][i] = result['energy']\n",
    "        hf_energies[i] = result['hf_energy']\n",
    "        dipoles[j][i]  = result['total_dipole_moment'] / 0.393430307\n",
    "        if algorithms[j] == 'VQE':\n",
    "            eval_counts[i] = result['algorithm_retvals']['eval_count']\n",
    "    distances[i] = d\n",
    "print(' --- complete')\n",
    "\n",
    "print('Distances: ', distances)\n",
    "print('Energies:', energies)\n",
    "print('Hartree-Fock energies:', hf_energies)\n",
    "print('VQE num evaluations:', eval_counts)"
   ]
  },
  {
   "cell_type": "code",
   "execution_count": 7,
   "metadata": {},
   "outputs": [
    {
     "data": {
      "image/png": "[encoded data removed]",
      "text/plain": [
       "<Figure size 432x288 with 1 Axes>"
      ]
     },
     "metadata": {
      "needs_background": "light"
     },
     "output_type": "display_data"
    }
   ],
   "source": [
    "pylab.plot(distances, hf_energies, label='Hartree-Fock')\n",
    "for j in range(len(algorithms)):\n",
    "    pylab.plot(distances, energies[j], label=algorithms[j])\n",
    "pylab.xlabel('Interatomic distance')\n",
    "pylab.ylabel('Energy')\n",
    "pylab.title('LiH Ground State Energy')\n",
    "pylab.legend(loc='upper right');"
   ]
  },
  {
   "cell_type": "code",
   "execution_count": null,
   "metadata": {},
   "outputs": [],
   "source": []
  }
 ],
 "metadata": {
  "kernelspec": {
   "display_name": "Python 3",
   "language": "python",
   "name": "python3"
  },
  "language_info": {
   "codemirror_mode": {
    "name": "ipython",
    "version": 3
   },
   "file_extension": ".py",
   "mimetype": "text/x-python",
   "name": "python",
   "nbconvert_exporter": "python",
   "pygments_lexer": "ipython3",
   "version": "3.7.1"
  }
 },
 "nbformat": 4,
 "nbformat_minor": 2
}
